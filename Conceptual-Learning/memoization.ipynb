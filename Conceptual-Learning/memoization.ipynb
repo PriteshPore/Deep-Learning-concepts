{
 "cells": [
  {
   "cell_type": "code",
   "execution_count": 1,
   "id": "ea77ec35-acc6-487e-98c8-91bf0401c5ec",
   "metadata": {},
   "outputs": [],
   "source": [
    "import time\n",
    "def fib(n):\n",
    "    if n == 0 or n == 1:\n",
    "        return 1\n",
    "    else:\n",
    "        return fib(n-1) + fib(n-2)"
   ]
  },
  {
   "cell_type": "code",
   "execution_count": 5,
   "id": "ea42495a-1796-49d9-834e-ddb52233aa81",
   "metadata": {},
   "outputs": [
    {
     "name": "stdout",
     "output_type": "stream",
     "text": [
      "63245986\n",
      "7.764332056045532\n"
     ]
    }
   ],
   "source": [
    "start = time.time()\n",
    "print(fib(38))\n",
    "print(time.time() - start)"
   ]
  },
  {
   "cell_type": "code",
   "execution_count": 7,
   "id": "0e5ed277-0f1f-401d-a97c-0e241586ef9a",
   "metadata": {},
   "outputs": [],
   "source": [
    "# Fib\n",
    "import time\n",
    "def fib(n,d):\n",
    "    if n in d:\n",
    "        return d[n]\n",
    "    else:\n",
    "        d[n] = fib(n-1,d)+ fib(n-2,d)\n",
    "        return d[n]"
   ]
  },
  {
   "cell_type": "code",
   "execution_count": 11,
   "id": "03651abf-ecbd-4ee9-aa18-3c52b0c488e5",
   "metadata": {},
   "outputs": [
    {
     "name": "stdout",
     "output_type": "stream",
     "text": [
      "39088169\n",
      "0.0\n"
     ]
    }
   ],
   "source": [
    "start = time.time()\n",
    "d = {0:0,1:1}\n",
    "print(fib(38,d))\n",
    "print(time.time() - start)"
   ]
  },
  {
   "cell_type": "code",
   "execution_count": null,
   "id": "1335e830-ddaf-4211-884c-014598cefb5e",
   "metadata": {},
   "outputs": [],
   "source": []
  }
 ],
 "metadata": {
  "kernelspec": {
   "display_name": "Python 3 (ipykernel)",
   "language": "python",
   "name": "python3"
  },
  "language_info": {
   "codemirror_mode": {
    "name": "ipython",
    "version": 3
   },
   "file_extension": ".py",
   "mimetype": "text/x-python",
   "name": "python",
   "nbconvert_exporter": "python",
   "pygments_lexer": "ipython3",
   "version": "3.12.7"
  }
 },
 "nbformat": 4,
 "nbformat_minor": 5
}
